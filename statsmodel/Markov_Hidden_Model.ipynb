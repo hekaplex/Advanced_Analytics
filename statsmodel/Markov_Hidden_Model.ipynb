{
 "cells": [
  {
   "cell_type": "code",
   "execution_count": 1,
   "metadata": {},
   "outputs": [
    {
     "name": "stdout",
     "output_type": "stream",
     "text": [
      "^C\n",
      "Note: you may need to restart the kernel to use updated packages.\n"
     ]
    }
   ],
   "source": [
    "%pip install pomegranate"
   ]
  },
  {
   "cell_type": "code",
   "execution_count": 1,
   "metadata": {},
   "outputs": [
    {
     "name": "stderr",
     "output_type": "stream",
     "text": [
      "C:\\Users\\andre\\AppData\\Local\\Temp\\ipykernel_48668\\2222145193.py:35: UserWarning: Install pygraphviz for nicer visualizations\n",
      "  model.plot(ax=ax, precision=2)\n"
     ]
    },
    {
     "data": {
      "image/png": "[encoded data removed]",
      "text/plain": [
       "<Figure size 432x288 with 1 Axes>"
      ]
     },
     "metadata": {},
     "output_type": "display_data"
    }
   ],
   "source": [
    "from pomegranate import HiddenMarkovModel, State, DiscreteDistribution\n",
    "from matplotlib import pyplot as plt\n",
    "\n",
    "def build_model():\n",
    "\n",
    "    d1 = DiscreteDistribution({'A' : 0.50, 'B' : 0.50})\n",
    "    d2 = DiscreteDistribution({'A' : 0.10, 'B' : 0.90})\n",
    "    d3 = DiscreteDistribution({'A' : 0.90, 'B' : 0.10})\n",
    "\n",
    "    s1 = State(d1, name=\"s1\")\n",
    "    s2 = State(d2, name=\"s2\")\n",
    "    s3 = State(d3, name=\"s3\")\n",
    "\n",
    "    model = HiddenMarkovModel(name='my model')\n",
    "    model.add_states(s1, s2, s3)\n",
    "    model.add_transition(model.start, s1, 1.0)\n",
    "    model.add_transition(s1, s1, 0.7)\n",
    "    model.add_transition(s1, s2, 0.3) # s1->s2\n",
    "    model.add_transition(s2, s2, 0.8)\n",
    "    \n",
    "    model.add_transition(s2, s3, 0.0) # no transition from s2 to s3\n",
    "    model.add_transition(s1, s3, 0.1) # indirect from s1 to s3\n",
    "    model.add_transition(s3, s1, 0.1) # indirect from s3 to s1\n",
    "    \n",
    "    model.add_transition(s3, s3, 0.9)\n",
    "    model.add_transition(s3, model.end, 0.1)\n",
    "    model.start.name = 'start'\n",
    "    model.end.name = 'end'\n",
    "    model.bake()\n",
    "\n",
    "    return model\n",
    "\n",
    "model = build_model()\n",
    "fig, ax = plt.subplots(1)\n",
    "model.plot(ax=ax, precision=2)\n",
    "fig.savefig('model.png')"
   ]
  },
  {
   "cell_type": "code",
   "execution_count": null,
   "metadata": {},
   "outputs": [],
   "source": []
  }
 ],
 "metadata": {
  "kernelspec": {
   "display_name": "Python 3.10.4 64-bit",
   "language": "python",
   "name": "python3"
  },
  "language_info": {
   "codemirror_mode": {
    "name": "ipython",
    "version": 3
   },
   "file_extension": ".py",
   "mimetype": "text/x-python",
   "name": "python",
   "nbconvert_exporter": "python",
   "pygments_lexer": "ipython3",
   "version": "3.10.4"
  },
  "orig_nbformat": 4,
  "vscode": {
   "interpreter": {
    "hash": "6847c98a8f86b01c6a19c518cd2f366693b80566b266804d5ca763cbb223f52b"
   }
  }
 },
 "nbformat": 4,
 "nbformat_minor": 2
}
